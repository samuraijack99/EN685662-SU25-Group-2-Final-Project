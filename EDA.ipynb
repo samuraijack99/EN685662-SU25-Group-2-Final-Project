{
 "cells": [
  {
   "cell_type": "markdown",
   "id": "b8e467e3-b4b2-4545-92a5-4b1f0df36f32",
   "metadata": {},
   "source": [
    "#### 1.3 Exploratory Data Analysis (EDA):\n",
    "by Hannah Clausi and Vian Ambar Agustono"
   ]
  },
  {
   "cell_type": "markdown",
   "id": "bc98d7b8-3fb9-4a58-bd6b-042b4e61a14d",
   "metadata": {},
   "source": [
    "**A. Import all libraries here necessary for EDA:**"
   ]
  },
  {
   "cell_type": "code",
   "execution_count": 54,
   "id": "0c55262a-aef3-4766-b9c5-fe37e3e4aa25",
   "metadata": {},
   "outputs": [],
   "source": [
    "import pandas as pd \n",
    "import matplotlib.pyplot as plt\n",
    "import os\n",
    "import numpy as np\n",
    "import seaborn as sns\n",
    "import time \n",
    "\n",
    "sns.set(style=\"whitegrid\")\n"
   ]
  },
  {
   "cell_type": "markdown",
   "id": "83b357bf-e81f-4f25-932a-2c574b4298f2",
   "metadata": {},
   "source": [
    "**B. ETL (Extract, Transform, and Load data)**\n",
    "\n",
    "First, ETL will be performed on the dataset of `Greenhouse Gases by Sector and State`. Data exists in the `Main` sheet and the `Sectors` sheet, therefore `Main` data will be extracted first: "
   ]
  },
  {
   "cell_type": "code",
   "execution_count": 55,
   "id": "10f680cc-4210-4405-a754-f38fce05720a",
   "metadata": {},
   "outputs": [
    {
     "data": {
      "text/html": [
       "<div>\n",
       "<style scoped>\n",
       "    .dataframe tbody tr th:only-of-type {\n",
       "        vertical-align: middle;\n",
       "    }\n",
       "\n",
       "    .dataframe tbody tr th {\n",
       "        vertical-align: top;\n",
       "    }\n",
       "\n",
       "    .dataframe thead th {\n",
       "        text-align: right;\n",
       "    }\n",
       "</style>\n",
       "<table border=\"1\" class=\"dataframe\">\n",
       "  <thead>\n",
       "    <tr style=\"text-align: right;\">\n",
       "      <th></th>\n",
       "      <th>Flowable</th>\n",
       "      <th>Sector</th>\n",
       "      <th>State</th>\n",
       "      <th>Year</th>\n",
       "      <th>FlowAmount</th>\n",
       "    </tr>\n",
       "  </thead>\n",
       "  <tbody>\n",
       "    <tr>\n",
       "      <th>0</th>\n",
       "      <td>Carbon dioxide</td>\n",
       "      <td>111</td>\n",
       "      <td>AK</td>\n",
       "      <td>2012</td>\n",
       "      <td>8.349448e+07</td>\n",
       "    </tr>\n",
       "    <tr>\n",
       "      <th>1</th>\n",
       "      <td>Carbon dioxide</td>\n",
       "      <td>111</td>\n",
       "      <td>AK</td>\n",
       "      <td>2013</td>\n",
       "      <td>1.259086e+08</td>\n",
       "    </tr>\n",
       "    <tr>\n",
       "      <th>2</th>\n",
       "      <td>Carbon dioxide</td>\n",
       "      <td>111</td>\n",
       "      <td>AK</td>\n",
       "      <td>2014</td>\n",
       "      <td>1.030956e+08</td>\n",
       "    </tr>\n",
       "    <tr>\n",
       "      <th>3</th>\n",
       "      <td>Carbon dioxide</td>\n",
       "      <td>111</td>\n",
       "      <td>AK</td>\n",
       "      <td>2015</td>\n",
       "      <td>9.149795e+07</td>\n",
       "    </tr>\n",
       "    <tr>\n",
       "      <th>4</th>\n",
       "      <td>Carbon dioxide</td>\n",
       "      <td>111</td>\n",
       "      <td>AK</td>\n",
       "      <td>2016</td>\n",
       "      <td>8.142637e+07</td>\n",
       "    </tr>\n",
       "  </tbody>\n",
       "</table>\n",
       "</div>"
      ],
      "text/plain": [
       "         Flowable Sector State  Year    FlowAmount\n",
       "0  Carbon dioxide    111    AK  2012  8.349448e+07\n",
       "1  Carbon dioxide    111    AK  2013  1.259086e+08\n",
       "2  Carbon dioxide    111    AK  2014  1.030956e+08\n",
       "3  Carbon dioxide    111    AK  2015  9.149795e+07\n",
       "4  Carbon dioxide    111    AK  2016  8.142637e+07"
      ]
     },
     "execution_count": 55,
     "metadata": {},
     "output_type": "execute_result"
    }
   ],
   "source": [
    "current_directory = os.getcwd()\n",
    "ghg_filename = \"GHGs_by_Sector_and_State_2012-2022.xlsx\"\n",
    "\n",
    "ghg_main_df = pd.read_excel(\n",
    "    os.path.join(current_directory, \"datasets\", ghg_filename),\n",
    "    sheet_name = 'Main'\n",
    ")\n",
    "\n",
    "ghg_main_df.head()\n"
   ]
  },
  {
   "cell_type": "markdown",
   "id": "9a3020cb-208b-4dd7-b6d9-c751db5d09ae",
   "metadata": {},
   "source": [
    "Now that `Main` data is confirmed to be extracted, `Sectors` data will be extracted next:"
   ]
  },
  {
   "cell_type": "code",
   "execution_count": 56,
   "id": "15c26d48-75db-4575-ad78-ba36eefbe1e7",
   "metadata": {},
   "outputs": [
    {
     "data": {
      "text/html": [
       "<div>\n",
       "<style scoped>\n",
       "    .dataframe tbody tr th:only-of-type {\n",
       "        vertical-align: middle;\n",
       "    }\n",
       "\n",
       "    .dataframe tbody tr th {\n",
       "        vertical-align: top;\n",
       "    }\n",
       "\n",
       "    .dataframe thead th {\n",
       "        text-align: right;\n",
       "    }\n",
       "</style>\n",
       "<table border=\"1\" class=\"dataframe\">\n",
       "  <thead>\n",
       "    <tr style=\"text-align: right;\">\n",
       "      <th></th>\n",
       "      <th>Sector</th>\n",
       "      <th>SectorName</th>\n",
       "    </tr>\n",
       "  </thead>\n",
       "  <tbody>\n",
       "    <tr>\n",
       "      <th>0</th>\n",
       "      <td>111</td>\n",
       "      <td>Crop Production</td>\n",
       "    </tr>\n",
       "    <tr>\n",
       "      <th>1</th>\n",
       "      <td>112</td>\n",
       "      <td>Animal Production and Aquaculture</td>\n",
       "    </tr>\n",
       "    <tr>\n",
       "      <th>2</th>\n",
       "      <td>113</td>\n",
       "      <td>Forestry and Logging</td>\n",
       "    </tr>\n",
       "    <tr>\n",
       "      <th>3</th>\n",
       "      <td>114</td>\n",
       "      <td>Fishing, Hunting and Trapping</td>\n",
       "    </tr>\n",
       "    <tr>\n",
       "      <th>4</th>\n",
       "      <td>115</td>\n",
       "      <td>Support Activities for Agriculture and Forestry</td>\n",
       "    </tr>\n",
       "  </tbody>\n",
       "</table>\n",
       "</div>"
      ],
      "text/plain": [
       "  Sector                                       SectorName\n",
       "0    111                                  Crop Production\n",
       "1    112                Animal Production and Aquaculture\n",
       "2    113                             Forestry and Logging\n",
       "3    114                    Fishing, Hunting and Trapping\n",
       "4    115  Support Activities for Agriculture and Forestry"
      ]
     },
     "execution_count": 56,
     "metadata": {},
     "output_type": "execute_result"
    }
   ],
   "source": [
    "ghg_sectors_df = pd.read_excel(\n",
    "    os.path.join(current_directory, \"datasets\", ghg_filename),\n",
    "    sheet_name = 'Sectors'\n",
    ")\n",
    "\n",
    "ghg_sectors_df.head()"
   ]
  },
  {
   "cell_type": "markdown",
   "id": "ad122b9f-7e21-4de5-bf62-9a56375faeb1",
   "metadata": {},
   "source": [
    "Now that `Sectors` data is extracted, both datasets can be combined based on the `Sector` column which is the primary key of the `Sectors` sheet and foreign key of the `Main` sheet:"
   ]
  },
  {
   "cell_type": "code",
   "execution_count": 57,
   "id": "7ece0a37-a4b0-477c-8ec4-062aecb92e30",
   "metadata": {},
   "outputs": [
    {
     "data": {
      "text/html": [
       "<div>\n",
       "<style scoped>\n",
       "    .dataframe tbody tr th:only-of-type {\n",
       "        vertical-align: middle;\n",
       "    }\n",
       "\n",
       "    .dataframe tbody tr th {\n",
       "        vertical-align: top;\n",
       "    }\n",
       "\n",
       "    .dataframe thead th {\n",
       "        text-align: right;\n",
       "    }\n",
       "</style>\n",
       "<table border=\"1\" class=\"dataframe\">\n",
       "  <thead>\n",
       "    <tr style=\"text-align: right;\">\n",
       "      <th></th>\n",
       "      <th>Flowable</th>\n",
       "      <th>Sector</th>\n",
       "      <th>State</th>\n",
       "      <th>Year</th>\n",
       "      <th>FlowAmount</th>\n",
       "      <th>SectorName</th>\n",
       "    </tr>\n",
       "  </thead>\n",
       "  <tbody>\n",
       "    <tr>\n",
       "      <th>0</th>\n",
       "      <td>Carbon dioxide</td>\n",
       "      <td>111</td>\n",
       "      <td>AK</td>\n",
       "      <td>2012</td>\n",
       "      <td>8.349448e+07</td>\n",
       "      <td>Crop Production</td>\n",
       "    </tr>\n",
       "    <tr>\n",
       "      <th>1</th>\n",
       "      <td>Carbon dioxide</td>\n",
       "      <td>111</td>\n",
       "      <td>AK</td>\n",
       "      <td>2013</td>\n",
       "      <td>1.259086e+08</td>\n",
       "      <td>Crop Production</td>\n",
       "    </tr>\n",
       "    <tr>\n",
       "      <th>2</th>\n",
       "      <td>Carbon dioxide</td>\n",
       "      <td>111</td>\n",
       "      <td>AK</td>\n",
       "      <td>2014</td>\n",
       "      <td>1.030956e+08</td>\n",
       "      <td>Crop Production</td>\n",
       "    </tr>\n",
       "    <tr>\n",
       "      <th>3</th>\n",
       "      <td>Carbon dioxide</td>\n",
       "      <td>111</td>\n",
       "      <td>AK</td>\n",
       "      <td>2015</td>\n",
       "      <td>9.149795e+07</td>\n",
       "      <td>Crop Production</td>\n",
       "    </tr>\n",
       "    <tr>\n",
       "      <th>4</th>\n",
       "      <td>Carbon dioxide</td>\n",
       "      <td>111</td>\n",
       "      <td>AK</td>\n",
       "      <td>2016</td>\n",
       "      <td>8.142637e+07</td>\n",
       "      <td>Crop Production</td>\n",
       "    </tr>\n",
       "  </tbody>\n",
       "</table>\n",
       "</div>"
      ],
      "text/plain": [
       "         Flowable Sector State  Year    FlowAmount       SectorName\n",
       "0  Carbon dioxide    111    AK  2012  8.349448e+07  Crop Production\n",
       "1  Carbon dioxide    111    AK  2013  1.259086e+08  Crop Production\n",
       "2  Carbon dioxide    111    AK  2014  1.030956e+08  Crop Production\n",
       "3  Carbon dioxide    111    AK  2015  9.149795e+07  Crop Production\n",
       "4  Carbon dioxide    111    AK  2016  8.142637e+07  Crop Production"
      ]
     },
     "execution_count": 57,
     "metadata": {},
     "output_type": "execute_result"
    }
   ],
   "source": [
    "ghg_df = ghg_main_df.merge(\n",
    "    ghg_sectors_df, \n",
    "    on='Sector',\n",
    "    how='left'\n",
    ")\n",
    "\n",
    "ghg_df.head()"
   ]
  },
  {
   "cell_type": "markdown",
   "id": "6422a079-ab97-4901-a83f-28f62163d3c1",
   "metadata": {},
   "source": [
    "From above, all variables are loaded properly with correct headers. Now, values in each column will be checked on whether they are non-null values and that they align with the expected header variable type:\n",
    "- Flowable (nominal categorical): type of greenhouse gas\n",
    "- Sector (nominal categorical, foreign key to sector table): NAICs industry code (though each code is represented by an integer value, each code represents a category)\n",
    "- State (nominal categorical): two-letter U.S. state abbreviation\n",
    "- Year (interval numerical): year \n",
    "- FlowAmount (ratio numerical): greenhouse gas emissions in kg "
   ]
  },
  {
   "cell_type": "code",
   "execution_count": 58,
   "id": "b804198e-10fe-4bf0-8121-cf79ad4651ac",
   "metadata": {},
   "outputs": [
    {
     "name": "stdout",
     "output_type": "stream",
     "text": [
      "<class 'pandas.core.frame.DataFrame'>\n",
      "RangeIndex: 503962 entries, 0 to 503961\n",
      "Data columns (total 6 columns):\n",
      " #   Column      Non-Null Count   Dtype  \n",
      "---  ------      --------------   -----  \n",
      " 0   Flowable    503962 non-null  object \n",
      " 1   Sector      503962 non-null  object \n",
      " 2   State       503962 non-null  object \n",
      " 3   Year        503962 non-null  int64  \n",
      " 4   FlowAmount  503962 non-null  float64\n",
      " 5   SectorName  503962 non-null  object \n",
      "dtypes: float64(1), int64(1), object(4)\n",
      "memory usage: 23.1+ MB\n"
     ]
    }
   ],
   "source": [
    "ghg_df.info()"
   ]
  },
  {
   "cell_type": "markdown",
   "id": "43b46bc7-d985-44f9-bb61-0690666b2114",
   "metadata": {},
   "source": [
    "From above, all values in all columns have the proper variable type and are non-null values. The `Greenhouse Gases` dataset has been loaded properly into a pandas DataFrame with appropriate headers, and the data types are consistent with expectations for each variable. "
   ]
  },
  {
   "cell_type": "markdown",
   "id": "6b30f401-59a3-435f-bf2f-e74d00b1ff74",
   "metadata": {},
   "source": [
    "Next, ETL will be performed on the dataset of `Chronic Disease Indicators in the US`, in which the data will be extracted:"
   ]
  },
  {
   "cell_type": "code",
   "execution_count": 59,
   "id": "62574995-41dd-4285-8629-ea44aa5df371",
   "metadata": {},
   "outputs": [
    {
     "data": {
      "text/html": [
       "<div>\n",
       "<style scoped>\n",
       "    .dataframe tbody tr th:only-of-type {\n",
       "        vertical-align: middle;\n",
       "    }\n",
       "\n",
       "    .dataframe tbody tr th {\n",
       "        vertical-align: top;\n",
       "    }\n",
       "\n",
       "    .dataframe thead th {\n",
       "        text-align: right;\n",
       "    }\n",
       "</style>\n",
       "<table border=\"1\" class=\"dataframe\">\n",
       "  <thead>\n",
       "    <tr style=\"text-align: right;\">\n",
       "      <th></th>\n",
       "      <th>YearStart</th>\n",
       "      <th>YearEnd</th>\n",
       "      <th>LocationAbbr</th>\n",
       "      <th>LocationDesc</th>\n",
       "      <th>DataSource</th>\n",
       "      <th>Topic</th>\n",
       "      <th>Question</th>\n",
       "      <th>Response</th>\n",
       "      <th>DataValueUnit</th>\n",
       "      <th>DataValueType</th>\n",
       "      <th>...</th>\n",
       "      <th>TopicID</th>\n",
       "      <th>QuestionID</th>\n",
       "      <th>ResponseID</th>\n",
       "      <th>DataValueTypeID</th>\n",
       "      <th>StratificationCategoryID1</th>\n",
       "      <th>StratificationID1</th>\n",
       "      <th>StratificationCategoryID2</th>\n",
       "      <th>StratificationID2</th>\n",
       "      <th>StratificationCategoryID3</th>\n",
       "      <th>StratificationID3</th>\n",
       "    </tr>\n",
       "  </thead>\n",
       "  <tbody>\n",
       "    <tr>\n",
       "      <th>0</th>\n",
       "      <td>2020</td>\n",
       "      <td>2020</td>\n",
       "      <td>US</td>\n",
       "      <td>United States</td>\n",
       "      <td>BRFSS</td>\n",
       "      <td>Health Status</td>\n",
       "      <td>Recent activity limitation among adults</td>\n",
       "      <td>NaN</td>\n",
       "      <td>Number</td>\n",
       "      <td>Age-adjusted Mean</td>\n",
       "      <td>...</td>\n",
       "      <td>HEA</td>\n",
       "      <td>HEA04</td>\n",
       "      <td>NaN</td>\n",
       "      <td>AGEADJMEAN</td>\n",
       "      <td>SEX</td>\n",
       "      <td>SEXF</td>\n",
       "      <td>NaN</td>\n",
       "      <td>NaN</td>\n",
       "      <td>NaN</td>\n",
       "      <td>NaN</td>\n",
       "    </tr>\n",
       "    <tr>\n",
       "      <th>1</th>\n",
       "      <td>2015</td>\n",
       "      <td>2019</td>\n",
       "      <td>AR</td>\n",
       "      <td>Arkansas</td>\n",
       "      <td>US Cancer DVT</td>\n",
       "      <td>Cancer</td>\n",
       "      <td>Invasive cancer (all sites combined), incidence</td>\n",
       "      <td>NaN</td>\n",
       "      <td>Number</td>\n",
       "      <td>Number</td>\n",
       "      <td>...</td>\n",
       "      <td>CAN</td>\n",
       "      <td>CAN07</td>\n",
       "      <td>NaN</td>\n",
       "      <td>NMBR</td>\n",
       "      <td>SEX</td>\n",
       "      <td>SEXM</td>\n",
       "      <td>NaN</td>\n",
       "      <td>NaN</td>\n",
       "      <td>NaN</td>\n",
       "      <td>NaN</td>\n",
       "    </tr>\n",
       "    <tr>\n",
       "      <th>2</th>\n",
       "      <td>2015</td>\n",
       "      <td>2019</td>\n",
       "      <td>CA</td>\n",
       "      <td>California</td>\n",
       "      <td>US Cancer DVT</td>\n",
       "      <td>Cancer</td>\n",
       "      <td>Cervical cancer mortality among all females, u...</td>\n",
       "      <td>NaN</td>\n",
       "      <td>Number</td>\n",
       "      <td>Number</td>\n",
       "      <td>...</td>\n",
       "      <td>CAN</td>\n",
       "      <td>CAN03</td>\n",
       "      <td>NaN</td>\n",
       "      <td>NMBR</td>\n",
       "      <td>OVERALL</td>\n",
       "      <td>OVR</td>\n",
       "      <td>NaN</td>\n",
       "      <td>NaN</td>\n",
       "      <td>NaN</td>\n",
       "      <td>NaN</td>\n",
       "    </tr>\n",
       "    <tr>\n",
       "      <th>3</th>\n",
       "      <td>2015</td>\n",
       "      <td>2019</td>\n",
       "      <td>CO</td>\n",
       "      <td>Colorado</td>\n",
       "      <td>US Cancer DVT</td>\n",
       "      <td>Cancer</td>\n",
       "      <td>Invasive cancer (all sites combined), incidence</td>\n",
       "      <td>NaN</td>\n",
       "      <td>Number</td>\n",
       "      <td>Number</td>\n",
       "      <td>...</td>\n",
       "      <td>CAN</td>\n",
       "      <td>CAN07</td>\n",
       "      <td>NaN</td>\n",
       "      <td>NMBR</td>\n",
       "      <td>RACE</td>\n",
       "      <td>HIS</td>\n",
       "      <td>NaN</td>\n",
       "      <td>NaN</td>\n",
       "      <td>NaN</td>\n",
       "      <td>NaN</td>\n",
       "    </tr>\n",
       "    <tr>\n",
       "      <th>4</th>\n",
       "      <td>2015</td>\n",
       "      <td>2019</td>\n",
       "      <td>GA</td>\n",
       "      <td>Georgia</td>\n",
       "      <td>US Cancer DVT</td>\n",
       "      <td>Cancer</td>\n",
       "      <td>Prostate cancer mortality among all males, und...</td>\n",
       "      <td>NaN</td>\n",
       "      <td>Number</td>\n",
       "      <td>Number</td>\n",
       "      <td>...</td>\n",
       "      <td>CAN</td>\n",
       "      <td>CAN05</td>\n",
       "      <td>NaN</td>\n",
       "      <td>NMBR</td>\n",
       "      <td>RACE</td>\n",
       "      <td>WHT</td>\n",
       "      <td>NaN</td>\n",
       "      <td>NaN</td>\n",
       "      <td>NaN</td>\n",
       "      <td>NaN</td>\n",
       "    </tr>\n",
       "  </tbody>\n",
       "</table>\n",
       "<p>5 rows × 34 columns</p>\n",
       "</div>"
      ],
      "text/plain": [
       "   YearStart  YearEnd LocationAbbr   LocationDesc     DataSource  \\\n",
       "0       2020     2020           US  United States          BRFSS   \n",
       "1       2015     2019           AR       Arkansas  US Cancer DVT   \n",
       "2       2015     2019           CA     California  US Cancer DVT   \n",
       "3       2015     2019           CO       Colorado  US Cancer DVT   \n",
       "4       2015     2019           GA        Georgia  US Cancer DVT   \n",
       "\n",
       "           Topic                                           Question  Response  \\\n",
       "0  Health Status            Recent activity limitation among adults       NaN   \n",
       "1         Cancer    Invasive cancer (all sites combined), incidence       NaN   \n",
       "2         Cancer  Cervical cancer mortality among all females, u...       NaN   \n",
       "3         Cancer    Invasive cancer (all sites combined), incidence       NaN   \n",
       "4         Cancer  Prostate cancer mortality among all males, und...       NaN   \n",
       "\n",
       "  DataValueUnit      DataValueType  ...  TopicID  QuestionID ResponseID  \\\n",
       "0        Number  Age-adjusted Mean  ...      HEA       HEA04        NaN   \n",
       "1        Number             Number  ...      CAN       CAN07        NaN   \n",
       "2        Number             Number  ...      CAN       CAN03        NaN   \n",
       "3        Number             Number  ...      CAN       CAN07        NaN   \n",
       "4        Number             Number  ...      CAN       CAN05        NaN   \n",
       "\n",
       "  DataValueTypeID  StratificationCategoryID1  StratificationID1  \\\n",
       "0      AGEADJMEAN                        SEX               SEXF   \n",
       "1            NMBR                        SEX               SEXM   \n",
       "2            NMBR                    OVERALL                OVR   \n",
       "3            NMBR                       RACE                HIS   \n",
       "4            NMBR                       RACE                WHT   \n",
       "\n",
       "  StratificationCategoryID2 StratificationID2  StratificationCategoryID3  \\\n",
       "0                       NaN               NaN                        NaN   \n",
       "1                       NaN               NaN                        NaN   \n",
       "2                       NaN               NaN                        NaN   \n",
       "3                       NaN               NaN                        NaN   \n",
       "4                       NaN               NaN                        NaN   \n",
       "\n",
       "   StratificationID3  \n",
       "0                NaN  \n",
       "1                NaN  \n",
       "2                NaN  \n",
       "3                NaN  \n",
       "4                NaN  \n",
       "\n",
       "[5 rows x 34 columns]"
      ]
     },
     "execution_count": 59,
     "metadata": {},
     "output_type": "execute_result"
    }
   ],
   "source": [
    "current_directory = os.getcwd()\n",
    "cdi_filename = \"U.S._Chronic_Disease_Indicators_20250615.csv\" \n",
    "\n",
    "cdi_df = pd.read_csv(os.path.join(current_directory, \"datasets\", cdi_filename))\n",
    "\n",
    "cdi_df.head()"
   ]
  },
  {
   "cell_type": "markdown",
   "id": "b5f141da-402f-41a7-b17f-e54e49fa7299",
   "metadata": {},
   "source": [
    "From above, while the data was successfully extracted for `Chronic Disease Indicators`, there are plenty of columns with empty values that may not be necessary for analysis of the effect of greenhouse emissions on prevalence of chronic disease per state. Therefore, all columns will be eliminated except for the necessary ones stated below:\n",
    "- YearStart/YearEnd (numerical)\n",
    "- LocationAbbr (categorical): state abbreviation\n",
    "- Topic (categorical): 115 defined chronic disease indicators\n",
    "- Question (categorical): provides more details on the topic i.e. type of cancer\n",
    "- DataValueUnit (categorical): number, per 100,000, etc.\n",
    "- DataValueType (categorical): rate, number, etc.\n",
    "- DataValue (numerical): actual metric being measured for the question\n",
    "- DataValueFootnote (categorical): explanation of actual metric being measured\n",
    "- StratificationCategory1 (categorical): specified demographic stratification category\n",
    "- Stratification1 (categorical): specified demographic stratification group within category"
   ]
  },
  {
   "cell_type": "code",
   "execution_count": 60,
   "id": "891d8e17-7c61-44f0-ab4a-bda5e0152fec",
   "metadata": {},
   "outputs": [
    {
     "data": {
      "text/html": [
       "<div>\n",
       "<style scoped>\n",
       "    .dataframe tbody tr th:only-of-type {\n",
       "        vertical-align: middle;\n",
       "    }\n",
       "\n",
       "    .dataframe tbody tr th {\n",
       "        vertical-align: top;\n",
       "    }\n",
       "\n",
       "    .dataframe thead th {\n",
       "        text-align: right;\n",
       "    }\n",
       "</style>\n",
       "<table border=\"1\" class=\"dataframe\">\n",
       "  <thead>\n",
       "    <tr style=\"text-align: right;\">\n",
       "      <th></th>\n",
       "      <th>YearStart</th>\n",
       "      <th>YearEnd</th>\n",
       "      <th>LocationAbbr</th>\n",
       "      <th>Topic</th>\n",
       "      <th>Question</th>\n",
       "      <th>DataValueUnit</th>\n",
       "      <th>DataValueType</th>\n",
       "      <th>DataValue</th>\n",
       "      <th>DataValueFootnote</th>\n",
       "      <th>StratificationCategory1</th>\n",
       "      <th>Stratification1</th>\n",
       "    </tr>\n",
       "  </thead>\n",
       "  <tbody>\n",
       "    <tr>\n",
       "      <th>0</th>\n",
       "      <td>2020</td>\n",
       "      <td>2020</td>\n",
       "      <td>US</td>\n",
       "      <td>Health Status</td>\n",
       "      <td>Recent activity limitation among adults</td>\n",
       "      <td>Number</td>\n",
       "      <td>Age-adjusted Mean</td>\n",
       "      <td>2.9</td>\n",
       "      <td>NaN</td>\n",
       "      <td>Sex</td>\n",
       "      <td>Female</td>\n",
       "    </tr>\n",
       "    <tr>\n",
       "      <th>1</th>\n",
       "      <td>2015</td>\n",
       "      <td>2019</td>\n",
       "      <td>AR</td>\n",
       "      <td>Cancer</td>\n",
       "      <td>Invasive cancer (all sites combined), incidence</td>\n",
       "      <td>Number</td>\n",
       "      <td>Number</td>\n",
       "      <td>9537.0</td>\n",
       "      <td>NaN</td>\n",
       "      <td>Sex</td>\n",
       "      <td>Male</td>\n",
       "    </tr>\n",
       "    <tr>\n",
       "      <th>2</th>\n",
       "      <td>2015</td>\n",
       "      <td>2019</td>\n",
       "      <td>CA</td>\n",
       "      <td>Cancer</td>\n",
       "      <td>Cervical cancer mortality among all females, u...</td>\n",
       "      <td>Number</td>\n",
       "      <td>Number</td>\n",
       "      <td>486.0</td>\n",
       "      <td>NaN</td>\n",
       "      <td>Overall</td>\n",
       "      <td>Overall</td>\n",
       "    </tr>\n",
       "    <tr>\n",
       "      <th>3</th>\n",
       "      <td>2015</td>\n",
       "      <td>2019</td>\n",
       "      <td>CO</td>\n",
       "      <td>Cancer</td>\n",
       "      <td>Invasive cancer (all sites combined), incidence</td>\n",
       "      <td>Number</td>\n",
       "      <td>Number</td>\n",
       "      <td>2880.0</td>\n",
       "      <td>NaN</td>\n",
       "      <td>Race/Ethnicity</td>\n",
       "      <td>Hispanic</td>\n",
       "    </tr>\n",
       "    <tr>\n",
       "      <th>4</th>\n",
       "      <td>2015</td>\n",
       "      <td>2019</td>\n",
       "      <td>GA</td>\n",
       "      <td>Cancer</td>\n",
       "      <td>Prostate cancer mortality among all males, und...</td>\n",
       "      <td>Number</td>\n",
       "      <td>Number</td>\n",
       "      <td>519.0</td>\n",
       "      <td>NaN</td>\n",
       "      <td>Race/Ethnicity</td>\n",
       "      <td>White, non-Hispanic</td>\n",
       "    </tr>\n",
       "  </tbody>\n",
       "</table>\n",
       "</div>"
      ],
      "text/plain": [
       "   YearStart  YearEnd LocationAbbr          Topic  \\\n",
       "0       2020     2020           US  Health Status   \n",
       "1       2015     2019           AR         Cancer   \n",
       "2       2015     2019           CA         Cancer   \n",
       "3       2015     2019           CO         Cancer   \n",
       "4       2015     2019           GA         Cancer   \n",
       "\n",
       "                                            Question DataValueUnit  \\\n",
       "0            Recent activity limitation among adults        Number   \n",
       "1    Invasive cancer (all sites combined), incidence        Number   \n",
       "2  Cervical cancer mortality among all females, u...        Number   \n",
       "3    Invasive cancer (all sites combined), incidence        Number   \n",
       "4  Prostate cancer mortality among all males, und...        Number   \n",
       "\n",
       "       DataValueType  DataValue DataValueFootnote StratificationCategory1  \\\n",
       "0  Age-adjusted Mean        2.9               NaN                     Sex   \n",
       "1             Number     9537.0               NaN                     Sex   \n",
       "2             Number      486.0               NaN                 Overall   \n",
       "3             Number     2880.0               NaN          Race/Ethnicity   \n",
       "4             Number      519.0               NaN          Race/Ethnicity   \n",
       "\n",
       "       Stratification1  \n",
       "0               Female  \n",
       "1                 Male  \n",
       "2              Overall  \n",
       "3             Hispanic  \n",
       "4  White, non-Hispanic  "
      ]
     },
     "execution_count": 60,
     "metadata": {},
     "output_type": "execute_result"
    }
   ],
   "source": [
    "keep_columns = [\n",
    "    \"YearStart\",\n",
    "    \"YearEnd\",\n",
    "    \"LocationAbbr\",\n",
    "    \"Topic\",\n",
    "    \"Question\",\n",
    "    \"DataValueUnit\",\n",
    "    \"DataValueType\",\n",
    "    \"DataValue\",\n",
    "    \"DataValueFootnote\",\n",
    "    \"StratificationCategory1\",\n",
    "    \"Stratification1\"\n",
    "]    \n",
    "\n",
    "cdi_df = cdi_df[keep_columns]\n",
    "\n",
    "cdi_df.head()"
   ]
  },
  {
   "cell_type": "markdown",
   "id": "4b383e09-32cb-4767-878a-7cb1fa507685",
   "metadata": {},
   "source": [
    "Now that all columns have been removed except the necessary ones and all headers are correct, values in each column will be checked on whether they are non-null values and that they align with the expected header variable type:"
   ]
  },
  {
   "cell_type": "code",
   "execution_count": 61,
   "id": "a45a0b91-3c05-4aba-b078-0caad9f76cdd",
   "metadata": {},
   "outputs": [
    {
     "name": "stdout",
     "output_type": "stream",
     "text": [
      "<class 'pandas.core.frame.DataFrame'>\n",
      "RangeIndex: 309215 entries, 0 to 309214\n",
      "Data columns (total 11 columns):\n",
      " #   Column                   Non-Null Count   Dtype  \n",
      "---  ------                   --------------   -----  \n",
      " 0   YearStart                309215 non-null  int64  \n",
      " 1   YearEnd                  309215 non-null  int64  \n",
      " 2   LocationAbbr             309215 non-null  object \n",
      " 3   Topic                    309215 non-null  object \n",
      " 4   Question                 309215 non-null  object \n",
      " 5   DataValueUnit            309215 non-null  object \n",
      " 6   DataValueType            309215 non-null  object \n",
      " 7   DataValue                209196 non-null  float64\n",
      " 8   DataValueFootnote        101716 non-null  object \n",
      " 9   StratificationCategory1  309215 non-null  object \n",
      " 10  Stratification1          309215 non-null  object \n",
      "dtypes: float64(1), int64(2), object(8)\n",
      "memory usage: 26.0+ MB\n"
     ]
    }
   ],
   "source": [
    "cdi_df.info()"
   ]
  },
  {
   "cell_type": "markdown",
   "id": "94ab8a9b-39e7-462f-9aea-6a53496d681a",
   "metadata": {},
   "source": [
    "It appears that for the DataValue column, $309215 - 209196 = 100019$ values are missing. Based on https://data.cdc.gov/Chronic-Disease-Indicators/U-S-Chronic-Disease-Indicators/hksd-2xuw/about_data, `DataValueFootnote` may be able to explain missing values in the DataValue column: "
   ]
  },
  {
   "cell_type": "code",
   "execution_count": 65,
   "id": "f61a0e51-521f-4566-95e7-db19b5fbcaa3",
   "metadata": {},
   "outputs": [
    {
     "data": {
      "text/plain": [
       "DataValueFootnote\n",
       "Data suppressed; denominator < 50 or relative standard error > 30%                                52652\n",
       "Data suppressed; too few respondents or cases                                                     28763\n",
       "No data available                                                                                 12734\n",
       "No data available for this indicator because the module was not used by the state or territory     5738\n",
       "The state registry opted not to present state-specific estimates for this race/ethnicity group       84\n",
       "Data cannot be calculated                                                                            48\n",
       "Name: count, dtype: int64"
      ]
     },
     "execution_count": 65,
     "metadata": {},
     "output_type": "execute_result"
    }
   ],
   "source": [
    "cdi_df[cdi_df[\"DataValue\"].isnull()].DataValueFootnote.value_counts()"
   ]
  },
  {
   "cell_type": "markdown",
   "id": "5489177b-21a9-4107-9e17-4b1e23b493ec",
   "metadata": {},
   "source": [
    "It appears `DataValue` is null at times due to data suppression, too small of a sample size, or missing modules. Therefore rows where `DataValue` is null must be dropped:"
   ]
  },
  {
   "cell_type": "code",
   "execution_count": 67,
   "id": "d15d5852-69a2-4464-9a29-4f5a10a791ef",
   "metadata": {},
   "outputs": [
    {
     "name": "stdout",
     "output_type": "stream",
     "text": [
      "<class 'pandas.core.frame.DataFrame'>\n",
      "Index: 209196 entries, 0 to 309214\n",
      "Data columns (total 11 columns):\n",
      " #   Column                   Non-Null Count   Dtype  \n",
      "---  ------                   --------------   -----  \n",
      " 0   YearStart                209196 non-null  int64  \n",
      " 1   YearEnd                  209196 non-null  int64  \n",
      " 2   LocationAbbr             209196 non-null  object \n",
      " 3   Topic                    209196 non-null  object \n",
      " 4   Question                 209196 non-null  object \n",
      " 5   DataValueUnit            209196 non-null  object \n",
      " 6   DataValueType            209196 non-null  object \n",
      " 7   DataValue                209196 non-null  float64\n",
      " 8   DataValueFootnote        1697 non-null    object \n",
      " 9   StratificationCategory1  209196 non-null  object \n",
      " 10  Stratification1          209196 non-null  object \n",
      "dtypes: float64(1), int64(2), object(8)\n",
      "memory usage: 19.2+ MB\n"
     ]
    }
   ],
   "source": [
    "cdi_df = cdi_df.dropna(subset=[\"DataValue\"])\n",
    "\n",
    "cdi_df.info()"
   ]
  },
  {
   "cell_type": "markdown",
   "id": "9dd78842-a38f-468d-aaf4-33185b7060c4",
   "metadata": {},
   "source": [
    "While all rows with NULL `DataValue` values were eliminated, some `DataValueFootnote` values exist which can be explored further:"
   ]
  },
  {
   "cell_type": "code",
   "execution_count": 69,
   "id": "55736916-aea4-4485-b2e6-88904bc24ded",
   "metadata": {},
   "outputs": [
    {
     "data": {
      "text/plain": [
       "DataValueFootnote\n",
       "Interpret with caution: 95% confidence interval width is greater than 20 percentage points or 1.2 times the estimate    937\n",
       "Interpret with caution; less than 60 respondents                                                                        535\n",
       "Estimate is 0.0% because no cases were reported with this condition                                                     126\n",
       "No data available                                                                                                        99\n",
       "Name: count, dtype: int64"
      ]
     },
     "execution_count": 69,
     "metadata": {},
     "output_type": "execute_result"
    }
   ],
   "source": [
    "cdi_df.DataValueFootnote.value_counts()"
   ]
  },
  {
   "cell_type": "markdown",
   "id": "600d56e2-a98c-4273-b631-858d1a4b19cf",
   "metadata": {},
   "source": [
    "The `DataValueFootnote` messages above do not indicate missing values, but instead values with caveats - values with high uncertainty, small sample size, or valid estimates with no observed cases. Therefore, such records should not be dropped but instead be kept and analyzed with precaution. \\\n",
    "\n",
    "To prepare for comparing the `Greenhouse Gases` with the `Chronic Disease Indicators` dataset, the datasets could respectively merge as needed on the `State` and `LocationAbbr` columns as well as the `Year` and the `YearStart`/`YearEnd` columns. Before doing so, rows of `Chronic Disease Indicators` could be split into individual years:"
   ]
  },
  {
   "cell_type": "code",
   "execution_count": 72,
   "id": "ceb2eee7-9ef5-49f8-87b9-42e05888a508",
   "metadata": {},
   "outputs": [
    {
     "data": {
      "text/html": [
       "<div>\n",
       "<style scoped>\n",
       "    .dataframe tbody tr th:only-of-type {\n",
       "        vertical-align: middle;\n",
       "    }\n",
       "\n",
       "    .dataframe tbody tr th {\n",
       "        vertical-align: top;\n",
       "    }\n",
       "\n",
       "    .dataframe thead th {\n",
       "        text-align: right;\n",
       "    }\n",
       "</style>\n",
       "<table border=\"1\" class=\"dataframe\">\n",
       "  <thead>\n",
       "    <tr style=\"text-align: right;\">\n",
       "      <th></th>\n",
       "      <th>YearStart</th>\n",
       "      <th>YearEnd</th>\n",
       "      <th>LocationAbbr</th>\n",
       "      <th>Topic</th>\n",
       "      <th>Question</th>\n",
       "      <th>DataValueUnit</th>\n",
       "      <th>DataValueType</th>\n",
       "      <th>DataValue</th>\n",
       "      <th>DataValueFootnote</th>\n",
       "      <th>StratificationCategory1</th>\n",
       "      <th>Stratification1</th>\n",
       "      <th>Year</th>\n",
       "    </tr>\n",
       "  </thead>\n",
       "  <tbody>\n",
       "    <tr>\n",
       "      <th>0</th>\n",
       "      <td>2020</td>\n",
       "      <td>2020</td>\n",
       "      <td>US</td>\n",
       "      <td>Health Status</td>\n",
       "      <td>Recent activity limitation among adults</td>\n",
       "      <td>Number</td>\n",
       "      <td>Age-adjusted Mean</td>\n",
       "      <td>2.9</td>\n",
       "      <td>NaN</td>\n",
       "      <td>Sex</td>\n",
       "      <td>Female</td>\n",
       "      <td>2020</td>\n",
       "    </tr>\n",
       "    <tr>\n",
       "      <th>1</th>\n",
       "      <td>2015</td>\n",
       "      <td>2019</td>\n",
       "      <td>AR</td>\n",
       "      <td>Cancer</td>\n",
       "      <td>Invasive cancer (all sites combined), incidence</td>\n",
       "      <td>Number</td>\n",
       "      <td>Number</td>\n",
       "      <td>9537.0</td>\n",
       "      <td>NaN</td>\n",
       "      <td>Sex</td>\n",
       "      <td>Male</td>\n",
       "      <td>2015</td>\n",
       "    </tr>\n",
       "    <tr>\n",
       "      <th>1</th>\n",
       "      <td>2015</td>\n",
       "      <td>2019</td>\n",
       "      <td>AR</td>\n",
       "      <td>Cancer</td>\n",
       "      <td>Invasive cancer (all sites combined), incidence</td>\n",
       "      <td>Number</td>\n",
       "      <td>Number</td>\n",
       "      <td>9537.0</td>\n",
       "      <td>NaN</td>\n",
       "      <td>Sex</td>\n",
       "      <td>Male</td>\n",
       "      <td>2016</td>\n",
       "    </tr>\n",
       "    <tr>\n",
       "      <th>1</th>\n",
       "      <td>2015</td>\n",
       "      <td>2019</td>\n",
       "      <td>AR</td>\n",
       "      <td>Cancer</td>\n",
       "      <td>Invasive cancer (all sites combined), incidence</td>\n",
       "      <td>Number</td>\n",
       "      <td>Number</td>\n",
       "      <td>9537.0</td>\n",
       "      <td>NaN</td>\n",
       "      <td>Sex</td>\n",
       "      <td>Male</td>\n",
       "      <td>2017</td>\n",
       "    </tr>\n",
       "    <tr>\n",
       "      <th>1</th>\n",
       "      <td>2015</td>\n",
       "      <td>2019</td>\n",
       "      <td>AR</td>\n",
       "      <td>Cancer</td>\n",
       "      <td>Invasive cancer (all sites combined), incidence</td>\n",
       "      <td>Number</td>\n",
       "      <td>Number</td>\n",
       "      <td>9537.0</td>\n",
       "      <td>NaN</td>\n",
       "      <td>Sex</td>\n",
       "      <td>Male</td>\n",
       "      <td>2018</td>\n",
       "    </tr>\n",
       "  </tbody>\n",
       "</table>\n",
       "</div>"
      ],
      "text/plain": [
       "   YearStart  YearEnd LocationAbbr          Topic  \\\n",
       "0       2020     2020           US  Health Status   \n",
       "1       2015     2019           AR         Cancer   \n",
       "1       2015     2019           AR         Cancer   \n",
       "1       2015     2019           AR         Cancer   \n",
       "1       2015     2019           AR         Cancer   \n",
       "\n",
       "                                          Question DataValueUnit  \\\n",
       "0          Recent activity limitation among adults        Number   \n",
       "1  Invasive cancer (all sites combined), incidence        Number   \n",
       "1  Invasive cancer (all sites combined), incidence        Number   \n",
       "1  Invasive cancer (all sites combined), incidence        Number   \n",
       "1  Invasive cancer (all sites combined), incidence        Number   \n",
       "\n",
       "       DataValueType  DataValue DataValueFootnote StratificationCategory1  \\\n",
       "0  Age-adjusted Mean        2.9               NaN                     Sex   \n",
       "1             Number     9537.0               NaN                     Sex   \n",
       "1             Number     9537.0               NaN                     Sex   \n",
       "1             Number     9537.0               NaN                     Sex   \n",
       "1             Number     9537.0               NaN                     Sex   \n",
       "\n",
       "  Stratification1  Year  \n",
       "0          Female  2020  \n",
       "1            Male  2015  \n",
       "1            Male  2016  \n",
       "1            Male  2017  \n",
       "1            Male  2018  "
      ]
     },
     "execution_count": 72,
     "metadata": {},
     "output_type": "execute_result"
    }
   ],
   "source": [
    "cdi_df[\"Year\"] = cdi_df.apply(\n",
    "    lambda row: list(range(row[\"YearStart\"], row[\"YearEnd\"] + 1)),\n",
    "    axis=1\n",
    ")\n",
    "\n",
    "cdi_df = cdi_df.explode(\"Year\")\n",
    "\n",
    "cdi_df.head()"
   ]
  },
  {
   "cell_type": "code",
   "execution_count": 73,
   "id": "d7203445-9d20-4bf4-893b-03ed74e7dabd",
   "metadata": {},
   "outputs": [
    {
     "name": "stdout",
     "output_type": "stream",
     "text": [
      "<class 'pandas.core.frame.DataFrame'>\n",
      "Index: 272857 entries, 0 to 309214\n",
      "Data columns (total 12 columns):\n",
      " #   Column                   Non-Null Count   Dtype  \n",
      "---  ------                   --------------   -----  \n",
      " 0   YearStart                272857 non-null  int64  \n",
      " 1   YearEnd                  272857 non-null  int64  \n",
      " 2   LocationAbbr             272857 non-null  object \n",
      " 3   Topic                    272857 non-null  object \n",
      " 4   Question                 272857 non-null  object \n",
      " 5   DataValueUnit            272857 non-null  object \n",
      " 6   DataValueType            272857 non-null  object \n",
      " 7   DataValue                272857 non-null  float64\n",
      " 8   DataValueFootnote        2634 non-null    object \n",
      " 9   StratificationCategory1  272857 non-null  object \n",
      " 10  Stratification1          272857 non-null  object \n",
      " 11  Year                     272857 non-null  object \n",
      "dtypes: float64(1), int64(2), object(9)\n",
      "memory usage: 27.1+ MB\n"
     ]
    }
   ],
   "source": [
    "cdi_df.info()"
   ]
  },
  {
   "cell_type": "markdown",
   "id": "077b5f17-8317-4b63-affb-0db546eb1fbe",
   "metadata": {},
   "source": [
    "After expanding each `Chronic Disease Indicators` record above as necessary to represent individual years between `YearStart` and `YearEnd`, exploratory data analysis could be initiated on both `Greenhouse Gas Emissions` and `Chronic Disease Indicators`. "
   ]
  },
  {
   "cell_type": "markdown",
   "id": "2155437e-63ab-4869-b3be-fd893df49ac6",
   "metadata": {},
   "source": [
    "**C. Exploratory Data Analysis of Variables**\n",
    "\n",
    "To begin EDA (Exploratory Data Analysis), each variable of the `Greenhouse Gas Emissions` dataset could be investigated individually and in combination with each other:"
   ]
  },
  {
   "cell_type": "markdown",
   "id": "d81c2af3-961d-4992-abfe-227344b1b1ac",
   "metadata": {},
   "source": [
    "**FlowAmount:**\n",
    "\n",
    "`FlowAmount` is a ratio numerical variable representing the amount of greenhouse gas emissions in kg (mass-based units). Summary statistics of `FlowAmount` could be calculated with the `describe()` function:"
   ]
  },
  {
   "cell_type": "code",
   "execution_count": 81,
   "id": "8a33dc53-f578-4957-8bfa-fb4b666f4ead",
   "metadata": {},
   "outputs": [
    {
     "data": {
      "text/plain": [
       "count    5.039620e+05\n",
       "mean     1.153742e+08\n",
       "std      2.014930e+09\n",
       "min      4.816310e-05\n",
       "25%      1.618042e+01\n",
       "50%      3.393353e+02\n",
       "75%      5.910831e+04\n",
       "max      1.914298e+11\n",
       "Name: FlowAmount, dtype: float64"
      ]
     },
     "execution_count": 81,
     "metadata": {},
     "output_type": "execute_result"
    }
   ],
   "source": [
    "ghg_df.FlowAmount.describe()"
   ]
  },
  {
   "cell_type": "markdown",
   "id": "4605a737-0de9-4a03-827b-910f7face0cd",
   "metadata": {},
   "source": [
    "The `FlowAmount` variable is right-skewed with a median of 339 kg but a mean of 115,000,000 kg - meaning that there are a few extremely large emissions values in some records influencing the average. Most records report lower emissions than the mean since 75% of emissions records have `FlowAmount` below 59,000 kg. Proportions can be represented in a log-scaled histogram to account for the wide range of `FlowAmount` quantities in records:"
   ]
  },
  {
   "cell_type": "code",
   "execution_count": 83,
   "id": "69803e87-cef1-45a9-957a-79f9911e010a",
   "metadata": {},
   "outputs": [
    {
     "data": {
      "image/png": "[encoded data removed]",
      "text/plain": [
       "<Figure size 1000x600 with 1 Axes>"
      ]
     },
     "metadata": {},
     "output_type": "display_data"
    }
   ],
   "source": [
    "log_flow = np.log10(ghg_df['FlowAmount'][ghg_df['FlowAmount'] > 0])\n",
    "\n",
    "figure = plt.figure(figsize=(10, 6))\n",
    "axes = figure.add_subplot(1, 1, 1)\n",
    "axes.hist( log_flow, color=\"DimGray\")\n",
    "axes.set_ylabel( \"Count\")\n",
    "axes.set_xlabel( \"log10(FlowAmount)\")\n",
    "axes.set_title(\"log10(FlowAmount) Histogram Distribution\")\n",
    "plt.show()\n",
    "plt.close()\n"
   ]
  },
  {
   "cell_type": "markdown",
   "id": "ef0c743d-6327-45ef-92a6-d3a26f4b0d29",
   "metadata": {},
   "source": [
    "The log-scaled histogram above shows that most `FlowAmount` values fall between 1 to 10,000 kg ($10^{0}$ kg to $10^{4}$ kg), while the long right tail proves a right-skewed distribution caused by the presence of records with extremely high emissions values. \n",
    "\n",
    "Analysis of `FlowAmount` over time could be performed by aggregating total `FlowAmount` emissions per year and plotting the data in a line graph:"
   ]
  },
  {
   "cell_type": "code",
   "execution_count": 85,
   "id": "eaf03f8c-bdfc-49ca-bbac-de118dd2552e",
   "metadata": {},
   "outputs": [
    {
     "data": {
      "image/png": "[encoded data removed]",
      "text/plain": [
       "<Figure size 1000x600 with 1 Axes>"
      ]
     },
     "metadata": {},
     "output_type": "display_data"
    }
   ],
   "source": [
    "total_per_year = ghg_df.groupby(\"Year\")[\"FlowAmount\"].sum()\n",
    "\n",
    "figure = plt.figure(figsize=(10, 6))\n",
    "axes = figure.add_subplot(1, 1, 1)\n",
    "axes.plot( total_per_year.index, total_per_year.values, color=\"DimGray\", marker='o')\n",
    "axes.set_ylabel( \"FlowAmount (kg)\")\n",
    "axes.set_xlabel( \"Year\")\n",
    "axes.set_title(\"Total Greenhouse Gas Emissions Over Time\")\n",
    "plt.show()\n",
    "plt.close()\n"
   ]
  },
  {
   "cell_type": "markdown",
   "id": "f2fc8832-352d-429d-87f8-0aaf7e61c0e0",
   "metadata": {},
   "source": [
    "From the line graph above, the total United States greenhouse gas emissions fluctuated around 5.5 trillion kg from 2012-2019. A sharp decline in emissions occurred in 2020 at 4.8 trillion kg (likely due to reduced industrial activity during the height of the COVID-19 pandemic). Emissions partially increased in 2021 and 2022 to around 5.1-5.2 trillion kg.  "
   ]
  },
  {
   "cell_type": "markdown",
   "id": "0857c5fa-043c-463d-a5b9-ce9abd7bf9cf",
   "metadata": {},
   "source": [
    "**Flowable:**"
   ]
  },
  {
   "cell_type": "markdown",
   "id": "048613f9-e281-4d7b-9e2d-d12b217a5dd5",
   "metadata": {},
   "source": [
    "`Flowable` is a categorical variable representing material that moves through or is released by a process (in this context, pollutant, emission, or waste product release through an industrial process). Proportions of `Flowable` records can be viewed through the `value_counts()` function:"
   ]
  },
  {
   "cell_type": "code",
   "execution_count": 75,
   "id": "b0981ee7-e02a-472e-adb0-d00e1a93ed70",
   "metadata": {},
   "outputs": [
    {
     "data": {
      "text/plain": [
       "Flowable\n",
       "Carbon dioxide                0.131290\n",
       "Nitrous oxide                 0.118412\n",
       "Methane                       0.118324\n",
       "HFCs and PFCs, unspecified    0.103526\n",
       "HFC-125                       0.103526\n",
       "HFC-134a                      0.103526\n",
       "HFC-143a                      0.103526\n",
       "HFC-32                        0.103526\n",
       "HFC-236fa                     0.103526\n",
       "Sulfur hexafluoride           0.002895\n",
       "Hexafluoroethane              0.002137\n",
       "Carbon tetrafluoride          0.001746\n",
       "Perfluoropropane              0.001492\n",
       "Perfluorocyclobutane          0.001208\n",
       "HFC-23                        0.000766\n",
       "Nitrogen trifluoride          0.000560\n",
       "Perfluorobutane               0.000008\n",
       "Perfluorohexane               0.000008\n",
       "Name: proportion, dtype: float64"
      ]
     },
     "execution_count": 75,
     "metadata": {},
     "output_type": "execute_result"
    }
   ],
   "source": [
    "ghg_df.Flowable.value_counts(normalize=True)"
   ]
  },
  {
   "cell_type": "markdown",
   "id": "d48698b7-ab51-419d-bf6b-de3faafe0d60",
   "metadata": {},
   "source": [
    "From above, Carbon dioxide accounts for the largest proportion of emissions records at 13.1% each, while nitrous oxide and methane make up 11.8% each and HFCs and PFCs, HFC-125, HFC-134a, HFC-143a, HFC-32, and HFC-236fa make up 10.4% each. Less common gases like Sulfur hexafluoride, hexafluoroethane, and perfluoropropane make up less than 0.01% each of proportion of `Flowable` records."
   ]
  },
  {
   "cell_type": "code",
   "execution_count": 78,
   "id": "0681504c-32e6-4b88-bc22-a516bfa81ca6",
   "metadata": {},
   "outputs": [
    {
     "name": "stderr",
     "output_type": "stream",
     "text": [
      "C:\\Users\\viana\\AppData\\Local\\Temp\\ipykernel_7084\\1953578857.py:1: FutureWarning: DataFrame.applymap has been deprecated. Use DataFrame.map instead.\n",
      "  ghg_df.groupby('Flowable')['FlowAmount'].describe().sort_values(by='mean', ascending=False).applymap(lambda x: f\"{x:,.2f}\")\n"
     ]
    },
    {
     "data": {
      "text/html": [
       "<div>\n",
       "<style scoped>\n",
       "    .dataframe tbody tr th:only-of-type {\n",
       "        vertical-align: middle;\n",
       "    }\n",
       "\n",
       "    .dataframe tbody tr th {\n",
       "        vertical-align: top;\n",
       "    }\n",
       "\n",
       "    .dataframe thead th {\n",
       "        text-align: right;\n",
       "    }\n",
       "</style>\n",
       "<table border=\"1\" class=\"dataframe\">\n",
       "  <thead>\n",
       "    <tr style=\"text-align: right;\">\n",
       "      <th></th>\n",
       "      <th>count</th>\n",
       "      <th>mean</th>\n",
       "      <th>std</th>\n",
       "      <th>min</th>\n",
       "      <th>25%</th>\n",
       "      <th>50%</th>\n",
       "      <th>75%</th>\n",
       "      <th>max</th>\n",
       "    </tr>\n",
       "    <tr>\n",
       "      <th>Flowable</th>\n",
       "      <th></th>\n",
       "      <th></th>\n",
       "      <th></th>\n",
       "      <th></th>\n",
       "      <th></th>\n",
       "      <th></th>\n",
       "      <th></th>\n",
       "      <th></th>\n",
       "    </tr>\n",
       "  </thead>\n",
       "  <tbody>\n",
       "    <tr>\n",
       "      <th>Carbon dioxide</th>\n",
       "      <td>66,165.00</td>\n",
       "      <td>862,677,701.86</td>\n",
       "      <td>5,502,063,477.57</td>\n",
       "      <td>188.62</td>\n",
       "      <td>3,469,386.87</td>\n",
       "      <td>19,225,231.59</td>\n",
       "      <td>124,918,437.43</td>\n",
       "      <td>191,429,843,506.86</td>\n",
       "    </tr>\n",
       "    <tr>\n",
       "      <th>HFCs and PFCs, unspecified</th>\n",
       "      <td>52,173.00</td>\n",
       "      <td>14,460,494.38</td>\n",
       "      <td>90,111,845.69</td>\n",
       "      <td>492.06</td>\n",
       "      <td>152,641.56</td>\n",
       "      <td>1,152,248.30</td>\n",
       "      <td>5,948,574.88</td>\n",
       "      <td>3,900,063,028.66</td>\n",
       "    </tr>\n",
       "    <tr>\n",
       "      <th>Methane</th>\n",
       "      <td>59,631.00</td>\n",
       "      <td>4,915,898.87</td>\n",
       "      <td>44,944,207.19</td>\n",
       "      <td>0.01</td>\n",
       "      <td>297.90</td>\n",
       "      <td>1,743.71</td>\n",
       "      <td>18,973.20</td>\n",
       "      <td>2,322,114,352.11</td>\n",
       "    </tr>\n",
       "    <tr>\n",
       "      <th>Nitrous oxide</th>\n",
       "      <td>59,675.00</td>\n",
       "      <td>287,418.89</td>\n",
       "      <td>2,799,868.81</td>\n",
       "      <td>0.00</td>\n",
       "      <td>16.04</td>\n",
       "      <td>108.30</td>\n",
       "      <td>3,358.21</td>\n",
       "      <td>96,503,992.34</td>\n",
       "    </tr>\n",
       "    <tr>\n",
       "      <th>HFC-23</th>\n",
       "      <td>386.00</td>\n",
       "      <td>10,934.65</td>\n",
       "      <td>51,035.56</td>\n",
       "      <td>0.01</td>\n",
       "      <td>27.29</td>\n",
       "      <td>708.57</td>\n",
       "      <td>2,222.00</td>\n",
       "      <td>410,325.24</td>\n",
       "    </tr>\n",
       "    <tr>\n",
       "      <th>Carbon tetrafluoride</th>\n",
       "      <td>880.00</td>\n",
       "      <td>6,466.21</td>\n",
       "      <td>16,659.04</td>\n",
       "      <td>0.06</td>\n",
       "      <td>1.34</td>\n",
       "      <td>11.50</td>\n",
       "      <td>4,496.31</td>\n",
       "      <td>116,164.29</td>\n",
       "    </tr>\n",
       "    <tr>\n",
       "      <th>Perfluorobutane</th>\n",
       "      <td>4.00</td>\n",
       "      <td>5,625.63</td>\n",
       "      <td>10,462.89</td>\n",
       "      <td>240.59</td>\n",
       "      <td>410.95</td>\n",
       "      <td>471.40</td>\n",
       "      <td>5,686.09</td>\n",
       "      <td>21,319.11</td>\n",
       "    </tr>\n",
       "    <tr>\n",
       "      <th>Perfluorohexane</th>\n",
       "      <td>4.00</td>\n",
       "      <td>5,089.78</td>\n",
       "      <td>9,466.39</td>\n",
       "      <td>217.54</td>\n",
       "      <td>371.72</td>\n",
       "      <td>426.50</td>\n",
       "      <td>5,144.56</td>\n",
       "      <td>19,288.60</td>\n",
       "    </tr>\n",
       "    <tr>\n",
       "      <th>HFC-134a</th>\n",
       "      <td>52,173.00</td>\n",
       "      <td>4,245.79</td>\n",
       "      <td>26,747.22</td>\n",
       "      <td>0.14</td>\n",
       "      <td>39.37</td>\n",
       "      <td>310.85</td>\n",
       "      <td>1,736.00</td>\n",
       "      <td>1,375,590.54</td>\n",
       "    </tr>\n",
       "    <tr>\n",
       "      <th>Sulfur hexafluoride</th>\n",
       "      <td>1,459.00</td>\n",
       "      <td>2,672.37</td>\n",
       "      <td>3,701.21</td>\n",
       "      <td>0.01</td>\n",
       "      <td>150.81</td>\n",
       "      <td>1,209.67</td>\n",
       "      <td>3,800.61</td>\n",
       "      <td>22,317.20</td>\n",
       "    </tr>\n",
       "    <tr>\n",
       "      <th>Nitrogen trifluoride</th>\n",
       "      <td>282.00</td>\n",
       "      <td>2,257.96</td>\n",
       "      <td>5,452.70</td>\n",
       "      <td>0.01</td>\n",
       "      <td>17.44</td>\n",
       "      <td>356.89</td>\n",
       "      <td>2,284.59</td>\n",
       "      <td>44,671.44</td>\n",
       "    </tr>\n",
       "    <tr>\n",
       "      <th>Perfluorocyclobutane</th>\n",
       "      <td>609.00</td>\n",
       "      <td>1,875.44</td>\n",
       "      <td>6,976.11</td>\n",
       "      <td>0.00</td>\n",
       "      <td>0.23</td>\n",
       "      <td>7.23</td>\n",
       "      <td>214.70</td>\n",
       "      <td>66,885.43</td>\n",
       "    </tr>\n",
       "    <tr>\n",
       "      <th>Hexafluoroethane</th>\n",
       "      <td>1,077.00</td>\n",
       "      <td>1,619.54</td>\n",
       "      <td>4,889.23</td>\n",
       "      <td>0.04</td>\n",
       "      <td>1.29</td>\n",
       "      <td>3.73</td>\n",
       "      <td>549.64</td>\n",
       "      <td>40,228.07</td>\n",
       "    </tr>\n",
       "    <tr>\n",
       "      <th>HFC-125</th>\n",
       "      <td>52,173.00</td>\n",
       "      <td>1,394.82</td>\n",
       "      <td>8,961.21</td>\n",
       "      <td>0.03</td>\n",
       "      <td>12.63</td>\n",
       "      <td>99.36</td>\n",
       "      <td>551.57</td>\n",
       "      <td>497,370.90</td>\n",
       "    </tr>\n",
       "    <tr>\n",
       "      <th>HFC-32</th>\n",
       "      <td>52,173.00</td>\n",
       "      <td>797.57</td>\n",
       "      <td>5,490.78</td>\n",
       "      <td>0.01</td>\n",
       "      <td>6.67</td>\n",
       "      <td>52.58</td>\n",
       "      <td>298.04</td>\n",
       "      <td>339,631.82</td>\n",
       "    </tr>\n",
       "    <tr>\n",
       "      <th>HFC-143a</th>\n",
       "      <td>52,173.00</td>\n",
       "      <td>574.43</td>\n",
       "      <td>3,616.58</td>\n",
       "      <td>0.02</td>\n",
       "      <td>5.27</td>\n",
       "      <td>41.39</td>\n",
       "      <td>229.08</td>\n",
       "      <td>135,996.71</td>\n",
       "    </tr>\n",
       "    <tr>\n",
       "      <th>Perfluoropropane</th>\n",
       "      <td>752.00</td>\n",
       "      <td>431.31</td>\n",
       "      <td>2,051.54</td>\n",
       "      <td>0.00</td>\n",
       "      <td>0.07</td>\n",
       "      <td>0.12</td>\n",
       "      <td>27.58</td>\n",
       "      <td>46,107.08</td>\n",
       "    </tr>\n",
       "    <tr>\n",
       "      <th>HFC-236fa</th>\n",
       "      <td>52,173.00</td>\n",
       "      <td>10.07</td>\n",
       "      <td>67.87</td>\n",
       "      <td>0.00</td>\n",
       "      <td>0.09</td>\n",
       "      <td>0.71</td>\n",
       "      <td>3.97</td>\n",
       "      <td>3,999.04</td>\n",
       "    </tr>\n",
       "  </tbody>\n",
       "</table>\n",
       "</div>"
      ],
      "text/plain": [
       "                                count            mean               std  \\\n",
       "Flowable                                                                  \n",
       "Carbon dioxide              66,165.00  862,677,701.86  5,502,063,477.57   \n",
       "HFCs and PFCs, unspecified  52,173.00   14,460,494.38     90,111,845.69   \n",
       "Methane                     59,631.00    4,915,898.87     44,944,207.19   \n",
       "Nitrous oxide               59,675.00      287,418.89      2,799,868.81   \n",
       "HFC-23                         386.00       10,934.65         51,035.56   \n",
       "Carbon tetrafluoride           880.00        6,466.21         16,659.04   \n",
       "Perfluorobutane                  4.00        5,625.63         10,462.89   \n",
       "Perfluorohexane                  4.00        5,089.78          9,466.39   \n",
       "HFC-134a                    52,173.00        4,245.79         26,747.22   \n",
       "Sulfur hexafluoride          1,459.00        2,672.37          3,701.21   \n",
       "Nitrogen trifluoride           282.00        2,257.96          5,452.70   \n",
       "Perfluorocyclobutane           609.00        1,875.44          6,976.11   \n",
       "Hexafluoroethane             1,077.00        1,619.54          4,889.23   \n",
       "HFC-125                     52,173.00        1,394.82          8,961.21   \n",
       "HFC-32                      52,173.00          797.57          5,490.78   \n",
       "HFC-143a                    52,173.00          574.43          3,616.58   \n",
       "Perfluoropropane               752.00          431.31          2,051.54   \n",
       "HFC-236fa                   52,173.00           10.07             67.87   \n",
       "\n",
       "                               min           25%            50%  \\\n",
       "Flowable                                                          \n",
       "Carbon dioxide              188.62  3,469,386.87  19,225,231.59   \n",
       "HFCs and PFCs, unspecified  492.06    152,641.56   1,152,248.30   \n",
       "Methane                       0.01        297.90       1,743.71   \n",
       "Nitrous oxide                 0.00         16.04         108.30   \n",
       "HFC-23                        0.01         27.29         708.57   \n",
       "Carbon tetrafluoride          0.06          1.34          11.50   \n",
       "Perfluorobutane             240.59        410.95         471.40   \n",
       "Perfluorohexane             217.54        371.72         426.50   \n",
       "HFC-134a                      0.14         39.37         310.85   \n",
       "Sulfur hexafluoride           0.01        150.81       1,209.67   \n",
       "Nitrogen trifluoride          0.01         17.44         356.89   \n",
       "Perfluorocyclobutane          0.00          0.23           7.23   \n",
       "Hexafluoroethane              0.04          1.29           3.73   \n",
       "HFC-125                       0.03         12.63          99.36   \n",
       "HFC-32                        0.01          6.67          52.58   \n",
       "HFC-143a                      0.02          5.27          41.39   \n",
       "Perfluoropropane              0.00          0.07           0.12   \n",
       "HFC-236fa                     0.00          0.09           0.71   \n",
       "\n",
       "                                       75%                 max  \n",
       "Flowable                                                        \n",
       "Carbon dioxide              124,918,437.43  191,429,843,506.86  \n",
       "HFCs and PFCs, unspecified    5,948,574.88    3,900,063,028.66  \n",
       "Methane                          18,973.20    2,322,114,352.11  \n",
       "Nitrous oxide                     3,358.21       96,503,992.34  \n",
       "HFC-23                            2,222.00          410,325.24  \n",
       "Carbon tetrafluoride              4,496.31          116,164.29  \n",
       "Perfluorobutane                   5,686.09           21,319.11  \n",
       "Perfluorohexane                   5,144.56           19,288.60  \n",
       "HFC-134a                          1,736.00        1,375,590.54  \n",
       "Sulfur hexafluoride               3,800.61           22,317.20  \n",
       "Nitrogen trifluoride              2,284.59           44,671.44  \n",
       "Perfluorocyclobutane                214.70           66,885.43  \n",
       "Hexafluoroethane                    549.64           40,228.07  \n",
       "HFC-125                             551.57          497,370.90  \n",
       "HFC-32                              298.04          339,631.82  \n",
       "HFC-143a                            229.08          135,996.71  \n",
       "Perfluoropropane                     27.58           46,107.08  \n",
       "HFC-236fa                             3.97            3,999.04  "
      ]
     },
     "execution_count": 78,
     "metadata": {},
     "output_type": "execute_result"
    }
   ],
   "source": [
    "ghg_df.groupby('Flowable')['FlowAmount'].describe().sort_values(by='mean', ascending=False).applymap(lambda x: f\"{x:,.2f}\")"
   ]
  },
  {
   "cell_type": "markdown",
   "id": "f616371b-4525-4e68-9420-4abefaf982bb",
   "metadata": {},
   "source": [
    "From above, the top `Flowable` emitter per record is Carbon dioxide with a mean of 863,000,000 kg. HFCs and PFCs, unspecified follow with a much lower mean of 14,000,000 kg (though it should be considered that HFCs and PFCs are an umbrella group of multiple unspecified gases which could contribute to its inflated average amount). Methane and nitrous oxide follow in emissions amount but are significantly lower in average magnitude, while other gases have very low averages and tighter interquartile ranges suggesting limited release amounts. Overall, the distribution of `Flowamount` across `Flowable` gases is heavily skewed with a few gases dominating in mass.\n",
    "\n",
    "The shape of the distributions of `FlowAmount` per record based on the `Flowable` category could be observed and analyzed through boxplot:"
   ]
  },
  {
   "cell_type": "code",
   "execution_count": 87,
   "id": "11fe8dcf-c5b9-4306-84da-32bd684c5824",
   "metadata": {},
   "outputs": [
    {
     "data": {
      "image/png": "[encoded data removed]",
      "text/plain": [
       "<Figure size 1400x600 with 1 Axes>"
      ]
     },
     "metadata": {},
     "output_type": "display_data"
    }
   ],
   "source": [
    "plt.figure(figsize=(14, 6))\n",
    "\n",
    "sns.boxplot(data=ghg_df, x='Flowable', y='FlowAmount')\n",
    "\n",
    "\n",
    "plt.yscale('log')  \n",
    "plt.xticks(rotation=90)\n",
    "plt.title(\"FlowAmount per Record by Flowable (Log Scale)\")\n",
    "plt.ylabel(\"FlowAmount (log scale)\")\n",
    "plt.xlabel(\"Flowable\")\n",
    "plt.tight_layout()\n",
    "plt.show()"
   ]
  },
  {
   "cell_type": "markdown",
   "id": "43854b72-7799-4f36-b735-c53f69c539b8",
   "metadata": {},
   "source": [
    "Above, the boxplot shows that carbon dioxide has the highest as well as widest range of emissions per record with a median higher than all other gases. Furthermore, carbon dioxide has extreme outliers of over $10^{11}$ kg in emissions per record. Gases like methane, nitrous oxide, and HFCs and PFCs, unspecified also show wide distributions with outliers that have high emissions amounts, while other gases like HFC-236fa, Perfluorobutane, and Perfluorohexane have low emissions and smaller interquartile ranges.\n",
    "\n",
    "The total amount of `FlowAmount` emissions per `Flowable` gas could be analyzed via bar chart:"
   ]
  },
  {
   "cell_type": "code",
   "execution_count": 89,
   "id": "fd89f3f9-a25f-4aab-a673-57a87ffb76fa",
   "metadata": {},
   "outputs": [
    {
     "data": {
      "image/png": "[encoded data removed]",
      "text/plain": [
       "<Figure size 1200x600 with 1 Axes>"
      ]
     },
     "metadata": {},
     "output_type": "display_data"
    }
   ],
   "source": [
    "total_emissions_by_gas = ghg_df.groupby('Flowable')['FlowAmount'].sum().sort_values(ascending=False).reset_index()\n",
    "\n",
    "plt.figure(figsize=(12, 6))\n",
    "plt.bar(total_emissions_by_gas['Flowable'], total_emissions_by_gas['FlowAmount'], color='dimGray')\n",
    "plt.xticks(rotation=90)\n",
    "plt.ylabel(\"Total Emissions (kg)\")\n",
    "plt.title(\"Total FlowAmount Emissions by Flowable Gas\")\n",
    "plt.tight_layout()\n",
    "plt.show()"
   ]
  },
  {
   "cell_type": "markdown",
   "id": "a3c140c9-5d39-49c9-8e1b-498248e30337",
   "metadata": {},
   "source": [
    "From above, carbon dioxide clearly overwhelmingly dominates total emissions with other gases such as methane, nitrous oxide, and various HFCs and PFCs contributing much smaller amounts in comparison."
   ]
  },
  {
   "cell_type": "markdown",
   "id": "eba2b803-39f4-4f35-8ac2-eac43a7fcbbd",
   "metadata": {},
   "source": [
    "**SectorName**: \n",
    "\n",
    "SectorName is a categorical variable representing the economic or industrial sector that is reponsible for greenhouse gas emissions in each record. Proportions of `SectorName` records can be viewed through the `value_counts()` function:"
   ]
  },
  {
   "cell_type": "code",
   "execution_count": 94,
   "id": "843c1400-ba6f-421e-83f7-7f40eebfc92e",
   "metadata": {},
   "outputs": [],
   "source": [
    "pd.set_option('display.max_rows', None)  \n",
    "ghg_df['SectorName'].value_counts(normalize=True)\n",
    "pd.reset_option('display.max_rows')    "
   ]
  },
  {
   "cell_type": "code",
   "execution_count": null,
   "id": "098fb296-7172-4bd9-8611-206522e06469",
   "metadata": {},
   "outputs": [],
   "source": []
  },
  {
   "cell_type": "code",
   "execution_count": null,
   "id": "00fed9d1-4987-4b4f-bbbf-d80ac86701cf",
   "metadata": {},
   "outputs": [],
   "source": []
  },
  {
   "cell_type": "markdown",
   "id": "3816bd32-3cd9-4344-acf4-6c8f37357333",
   "metadata": {},
   "source": [
    "**State:**"
   ]
  },
  {
   "cell_type": "code",
   "execution_count": null,
   "id": "2a35c177-59d4-48bd-b837-dd42740dcdaa",
   "metadata": {},
   "outputs": [],
   "source": []
  },
  {
   "cell_type": "code",
   "execution_count": null,
   "id": "df9127c7-97cf-438d-9eab-a9a26741f34f",
   "metadata": {},
   "outputs": [],
   "source": []
  },
  {
   "cell_type": "code",
   "execution_count": null,
   "id": "7492369b-4493-4fa1-88cc-15472b2010ae",
   "metadata": {},
   "outputs": [],
   "source": []
  },
  {
   "cell_type": "markdown",
   "id": "eb32887b-5876-4caa-832c-68368c57b7be",
   "metadata": {},
   "source": [
    "**Year:**"
   ]
  },
  {
   "cell_type": "code",
   "execution_count": null,
   "id": "379c0502-10b7-48cc-b699-79e0df249e17",
   "metadata": {},
   "outputs": [],
   "source": []
  },
  {
   "cell_type": "code",
   "execution_count": null,
   "id": "b6495ebc-1364-4f57-80c0-ce922a05d751",
   "metadata": {},
   "outputs": [],
   "source": []
  },
  {
   "cell_type": "code",
   "execution_count": null,
   "id": "71f75748-cf71-4d95-bfb7-7f918ab07dfd",
   "metadata": {},
   "outputs": [],
   "source": []
  },
  {
   "cell_type": "code",
   "execution_count": null,
   "id": "958be9cb-3bb5-4900-9aa0-a6ddcb2eee2f",
   "metadata": {},
   "outputs": [],
   "source": []
  },
  {
   "cell_type": "code",
   "execution_count": null,
   "id": "23cdaa45-07ff-4271-a355-40951b4667be",
   "metadata": {},
   "outputs": [],
   "source": []
  },
  {
   "cell_type": "markdown",
   "id": "99ee3eda-4eb4-4ba8-a523-7ca7ed5ce0d3",
   "metadata": {},
   "source": [
    "**D. Multiple Variable Exploration**"
   ]
  },
  {
   "cell_type": "code",
   "execution_count": null,
   "id": "b4ef5c38-73ea-4ce3-9e53-f10296fef5f1",
   "metadata": {},
   "outputs": [],
   "source": []
  },
  {
   "cell_type": "code",
   "execution_count": null,
   "id": "3e8cb5b1-9420-43ce-ae2c-8bf5679fa523",
   "metadata": {},
   "outputs": [],
   "source": []
  }
 ],
 "metadata": {
  "kernelspec": {
   "display_name": "Python 3 (ipykernel)",
   "language": "python",
   "name": "python3"
  },
  "language_info": {
   "codemirror_mode": {
    "name": "ipython",
    "version": 3
   },
   "file_extension": ".py",
   "mimetype": "text/x-python",
   "name": "python",
   "nbconvert_exporter": "python",
   "pygments_lexer": "ipython3",
   "version": "3.13.1"
  }
 },
 "nbformat": 4,
 "nbformat_minor": 5
}
