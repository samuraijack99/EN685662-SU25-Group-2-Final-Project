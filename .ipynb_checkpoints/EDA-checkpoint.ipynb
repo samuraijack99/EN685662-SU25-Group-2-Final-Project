{
 "cells": [
  {
   "cell_type": "markdown",
   "id": "b8e467e3-b4b2-4545-92a5-4b1f0df36f32",
   "metadata": {},
   "source": [
    "#### 1.3 Exploratory Data Analysis (EDA):\n",
    "by Hannah Clausi and Vian Ambar Agustono"
   ]
  },
  {
   "cell_type": "markdown",
   "id": "bc98d7b8-3fb9-4a58-bd6b-042b4e61a14d",
   "metadata": {},
   "source": [
    "**1. Import all libraries here necessary for EDA:**"
   ]
  },
  {
   "cell_type": "code",
   "execution_count": 4,
   "id": "0c55262a-aef3-4766-b9c5-fe37e3e4aa25",
   "metadata": {},
   "outputs": [],
   "source": [
    "import pandas as pd \n",
    "import matplotlib.pyplot as plt\n",
    "import numpy as np\n",
    "import seaborn as sns\n",
    "import time \n",
    "\n",
    "sns.set(style=\"whitegrid\")\n"
   ]
  },
  {
   "cell_type": "markdown",
   "id": "83b357bf-e81f-4f25-932a-2c574b4298f2",
   "metadata": {},
   "source": [
    "**2. ETL (Extract, Transform, and Load data)**"
   ]
  },
  {
   "cell_type": "code",
   "execution_count": null,
   "id": "10f680cc-4210-4405-a754-f38fce05720a",
   "metadata": {},
   "outputs": [],
   "source": []
  }
 ],
 "metadata": {
  "kernelspec": {
   "display_name": "Python 3 (ipykernel)",
   "language": "python",
   "name": "python3"
  },
  "language_info": {
   "codemirror_mode": {
    "name": "ipython",
    "version": 3
   },
   "file_extension": ".py",
   "mimetype": "text/x-python",
   "name": "python",
   "nbconvert_exporter": "python",
   "pygments_lexer": "ipython3",
   "version": "3.13.1"
  }
 },
 "nbformat": 4,
 "nbformat_minor": 5
}
