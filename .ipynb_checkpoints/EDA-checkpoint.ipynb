{
 "cells": [
  {
   "cell_type": "markdown",
   "id": "b8e467e3-b4b2-4545-92a5-4b1f0df36f32",
   "metadata": {},
   "source": [
    "#### 1.3 Exploratory Data Analysis (EDA):\n",
    "by Hannah Clausi and Vian Ambar Agustono"
   ]
  },
  {
   "cell_type": "markdown",
   "id": "bc98d7b8-3fb9-4a58-bd6b-042b4e61a14d",
   "metadata": {},
   "source": [
    "**1. Import all libraries here necessary for EDA:**"
   ]
  },
  {
   "cell_type": "code",
   "execution_count": 7,
   "id": "0c55262a-aef3-4766-b9c5-fe37e3e4aa25",
   "metadata": {},
   "outputs": [],
   "source": [
    "import pandas as pd \n",
    "import matplotlib.pyplot as plt\n",
    "import os\n",
    "import numpy as np\n",
    "import seaborn as sns\n",
    "import time \n",
    "\n",
    "sns.set(style=\"whitegrid\")\n"
   ]
  },
  {
   "cell_type": "markdown",
   "id": "83b357bf-e81f-4f25-932a-2c574b4298f2",
   "metadata": {},
   "source": [
    "**2. ETL (Extract, Transform, and Load data)**\n",
    "\n",
    "First, ETL will be performed on the dataset of `Greenhouse Gases by Sector and State`. Data exists in the `Main` sheet and the `Sectors` sheet, therefore `Main` data will be extracted first: "
   ]
  },
  {
   "cell_type": "code",
   "execution_count": 20,
   "id": "10f680cc-4210-4405-a754-f38fce05720a",
   "metadata": {},
   "outputs": [
    {
     "data": {
      "text/html": [
       "<div>\n",
       "<style scoped>\n",
       "    .dataframe tbody tr th:only-of-type {\n",
       "        vertical-align: middle;\n",
       "    }\n",
       "\n",
       "    .dataframe tbody tr th {\n",
       "        vertical-align: top;\n",
       "    }\n",
       "\n",
       "    .dataframe thead th {\n",
       "        text-align: right;\n",
       "    }\n",
       "</style>\n",
       "<table border=\"1\" class=\"dataframe\">\n",
       "  <thead>\n",
       "    <tr style=\"text-align: right;\">\n",
       "      <th></th>\n",
       "      <th>Flowable</th>\n",
       "      <th>Sector</th>\n",
       "      <th>State</th>\n",
       "      <th>Year</th>\n",
       "      <th>FlowAmount</th>\n",
       "    </tr>\n",
       "  </thead>\n",
       "  <tbody>\n",
       "    <tr>\n",
       "      <th>0</th>\n",
       "      <td>Carbon dioxide</td>\n",
       "      <td>111</td>\n",
       "      <td>AK</td>\n",
       "      <td>2012</td>\n",
       "      <td>8.349448e+07</td>\n",
       "    </tr>\n",
       "    <tr>\n",
       "      <th>1</th>\n",
       "      <td>Carbon dioxide</td>\n",
       "      <td>111</td>\n",
       "      <td>AK</td>\n",
       "      <td>2013</td>\n",
       "      <td>1.259086e+08</td>\n",
       "    </tr>\n",
       "    <tr>\n",
       "      <th>2</th>\n",
       "      <td>Carbon dioxide</td>\n",
       "      <td>111</td>\n",
       "      <td>AK</td>\n",
       "      <td>2014</td>\n",
       "      <td>1.030956e+08</td>\n",
       "    </tr>\n",
       "    <tr>\n",
       "      <th>3</th>\n",
       "      <td>Carbon dioxide</td>\n",
       "      <td>111</td>\n",
       "      <td>AK</td>\n",
       "      <td>2015</td>\n",
       "      <td>9.149795e+07</td>\n",
       "    </tr>\n",
       "    <tr>\n",
       "      <th>4</th>\n",
       "      <td>Carbon dioxide</td>\n",
       "      <td>111</td>\n",
       "      <td>AK</td>\n",
       "      <td>2016</td>\n",
       "      <td>8.142637e+07</td>\n",
       "    </tr>\n",
       "  </tbody>\n",
       "</table>\n",
       "</div>"
      ],
      "text/plain": [
       "         Flowable Sector State  Year    FlowAmount\n",
       "0  Carbon dioxide    111    AK  2012  8.349448e+07\n",
       "1  Carbon dioxide    111    AK  2013  1.259086e+08\n",
       "2  Carbon dioxide    111    AK  2014  1.030956e+08\n",
       "3  Carbon dioxide    111    AK  2015  9.149795e+07\n",
       "4  Carbon dioxide    111    AK  2016  8.142637e+07"
      ]
     },
     "execution_count": 20,
     "metadata": {},
     "output_type": "execute_result"
    }
   ],
   "source": [
    "current_directory = os.getcwd()\n",
    "ghg_filename = \"GHGs_by_Sector_and_State_2012-2022.xlsx\"\n",
    "\n",
    "ghg_main_df = pd.read_excel(\n",
    "    os.path.join(current_directory, \"datasets\", ghg_filename),\n",
    "    sheet_name = 'Main'\n",
    ")\n",
    "\n",
    "ghg_main_df.head()\n"
   ]
  },
  {
   "cell_type": "markdown",
   "id": "9a3020cb-208b-4dd7-b6d9-c751db5d09ae",
   "metadata": {},
   "source": [
    "Now that `Main` data is confirmed to be extracted, `Sectors` data will be extracted next:"
   ]
  },
  {
   "cell_type": "code",
   "execution_count": 21,
   "id": "15c26d48-75db-4575-ad78-ba36eefbe1e7",
   "metadata": {},
   "outputs": [
    {
     "data": {
      "text/html": [
       "<div>\n",
       "<style scoped>\n",
       "    .dataframe tbody tr th:only-of-type {\n",
       "        vertical-align: middle;\n",
       "    }\n",
       "\n",
       "    .dataframe tbody tr th {\n",
       "        vertical-align: top;\n",
       "    }\n",
       "\n",
       "    .dataframe thead th {\n",
       "        text-align: right;\n",
       "    }\n",
       "</style>\n",
       "<table border=\"1\" class=\"dataframe\">\n",
       "  <thead>\n",
       "    <tr style=\"text-align: right;\">\n",
       "      <th></th>\n",
       "      <th>Sector</th>\n",
       "      <th>SectorName</th>\n",
       "    </tr>\n",
       "  </thead>\n",
       "  <tbody>\n",
       "    <tr>\n",
       "      <th>0</th>\n",
       "      <td>111</td>\n",
       "      <td>Crop Production</td>\n",
       "    </tr>\n",
       "    <tr>\n",
       "      <th>1</th>\n",
       "      <td>112</td>\n",
       "      <td>Animal Production and Aquaculture</td>\n",
       "    </tr>\n",
       "    <tr>\n",
       "      <th>2</th>\n",
       "      <td>113</td>\n",
       "      <td>Forestry and Logging</td>\n",
       "    </tr>\n",
       "    <tr>\n",
       "      <th>3</th>\n",
       "      <td>114</td>\n",
       "      <td>Fishing, Hunting and Trapping</td>\n",
       "    </tr>\n",
       "    <tr>\n",
       "      <th>4</th>\n",
       "      <td>115</td>\n",
       "      <td>Support Activities for Agriculture and Forestry</td>\n",
       "    </tr>\n",
       "  </tbody>\n",
       "</table>\n",
       "</div>"
      ],
      "text/plain": [
       "  Sector                                       SectorName\n",
       "0    111                                  Crop Production\n",
       "1    112                Animal Production and Aquaculture\n",
       "2    113                             Forestry and Logging\n",
       "3    114                    Fishing, Hunting and Trapping\n",
       "4    115  Support Activities for Agriculture and Forestry"
      ]
     },
     "execution_count": 21,
     "metadata": {},
     "output_type": "execute_result"
    }
   ],
   "source": [
    "ghg_sectors_df = pd.read_excel(\n",
    "    os.path.join(current_directory, \"datasets\", ghg_filename),\n",
    "    sheet_name = 'Sectors'\n",
    ")\n",
    "\n",
    "ghg_sectors_df.head()"
   ]
  },
  {
   "cell_type": "markdown",
   "id": "ad122b9f-7e21-4de5-bf62-9a56375faeb1",
   "metadata": {},
   "source": [
    "Now that `Sectors` data is extracted, both datasets can be combined based on the `Sector` column which is the primary key of the `Sectors` sheet and foreign key of the `Main` sheet:"
   ]
  },
  {
   "cell_type": "code",
   "execution_count": 23,
   "id": "7ece0a37-a4b0-477c-8ec4-062aecb92e30",
   "metadata": {},
   "outputs": [
    {
     "data": {
      "text/html": [
       "<div>\n",
       "<style scoped>\n",
       "    .dataframe tbody tr th:only-of-type {\n",
       "        vertical-align: middle;\n",
       "    }\n",
       "\n",
       "    .dataframe tbody tr th {\n",
       "        vertical-align: top;\n",
       "    }\n",
       "\n",
       "    .dataframe thead th {\n",
       "        text-align: right;\n",
       "    }\n",
       "</style>\n",
       "<table border=\"1\" class=\"dataframe\">\n",
       "  <thead>\n",
       "    <tr style=\"text-align: right;\">\n",
       "      <th></th>\n",
       "      <th>Flowable</th>\n",
       "      <th>Sector</th>\n",
       "      <th>State</th>\n",
       "      <th>Year</th>\n",
       "      <th>FlowAmount</th>\n",
       "      <th>SectorName</th>\n",
       "    </tr>\n",
       "  </thead>\n",
       "  <tbody>\n",
       "    <tr>\n",
       "      <th>0</th>\n",
       "      <td>Carbon dioxide</td>\n",
       "      <td>111</td>\n",
       "      <td>AK</td>\n",
       "      <td>2012</td>\n",
       "      <td>8.349448e+07</td>\n",
       "      <td>Crop Production</td>\n",
       "    </tr>\n",
       "    <tr>\n",
       "      <th>1</th>\n",
       "      <td>Carbon dioxide</td>\n",
       "      <td>111</td>\n",
       "      <td>AK</td>\n",
       "      <td>2013</td>\n",
       "      <td>1.259086e+08</td>\n",
       "      <td>Crop Production</td>\n",
       "    </tr>\n",
       "    <tr>\n",
       "      <th>2</th>\n",
       "      <td>Carbon dioxide</td>\n",
       "      <td>111</td>\n",
       "      <td>AK</td>\n",
       "      <td>2014</td>\n",
       "      <td>1.030956e+08</td>\n",
       "      <td>Crop Production</td>\n",
       "    </tr>\n",
       "    <tr>\n",
       "      <th>3</th>\n",
       "      <td>Carbon dioxide</td>\n",
       "      <td>111</td>\n",
       "      <td>AK</td>\n",
       "      <td>2015</td>\n",
       "      <td>9.149795e+07</td>\n",
       "      <td>Crop Production</td>\n",
       "    </tr>\n",
       "    <tr>\n",
       "      <th>4</th>\n",
       "      <td>Carbon dioxide</td>\n",
       "      <td>111</td>\n",
       "      <td>AK</td>\n",
       "      <td>2016</td>\n",
       "      <td>8.142637e+07</td>\n",
       "      <td>Crop Production</td>\n",
       "    </tr>\n",
       "  </tbody>\n",
       "</table>\n",
       "</div>"
      ],
      "text/plain": [
       "         Flowable Sector State  Year    FlowAmount       SectorName\n",
       "0  Carbon dioxide    111    AK  2012  8.349448e+07  Crop Production\n",
       "1  Carbon dioxide    111    AK  2013  1.259086e+08  Crop Production\n",
       "2  Carbon dioxide    111    AK  2014  1.030956e+08  Crop Production\n",
       "3  Carbon dioxide    111    AK  2015  9.149795e+07  Crop Production\n",
       "4  Carbon dioxide    111    AK  2016  8.142637e+07  Crop Production"
      ]
     },
     "execution_count": 23,
     "metadata": {},
     "output_type": "execute_result"
    }
   ],
   "source": [
    "ghg_df = ghg_main_df.merge(\n",
    "    ghg_sectors_df, \n",
    "    on='Sector',\n",
    "    how='left'\n",
    ")\n",
    "\n",
    "ghg_df.head()"
   ]
  },
  {
   "cell_type": "markdown",
   "id": "6422a079-ab97-4901-a83f-28f62163d3c1",
   "metadata": {},
   "source": [
    "From above, all variables are loaded properly with correct headers. Now, values in each column will be checked on whether they are non-null values and that they align with the expected header variable type:\n",
    "- Flowable (nominal categorical): type of greenhouse gas\n",
    "- Sector (nominal categorical, foreign key to sector table): NAICs industry code (though each code is represented by an integer value, each code represents a category)\n",
    "- State (nominal categorical): two-letter U.S. state abbreviation\n",
    "- Year (interval numerical): year \n",
    "- FlowAmount (ratio numerical): greenhouse gas emissions in kg "
   ]
  },
  {
   "cell_type": "code",
   "execution_count": 24,
   "id": "b804198e-10fe-4bf0-8121-cf79ad4651ac",
   "metadata": {},
   "outputs": [
    {
     "name": "stdout",
     "output_type": "stream",
     "text": [
      "<class 'pandas.core.frame.DataFrame'>\n",
      "RangeIndex: 503962 entries, 0 to 503961\n",
      "Data columns (total 6 columns):\n",
      " #   Column      Non-Null Count   Dtype  \n",
      "---  ------      --------------   -----  \n",
      " 0   Flowable    503962 non-null  object \n",
      " 1   Sector      503962 non-null  object \n",
      " 2   State       503962 non-null  object \n",
      " 3   Year        503962 non-null  int64  \n",
      " 4   FlowAmount  503962 non-null  float64\n",
      " 5   SectorName  503962 non-null  object \n",
      "dtypes: float64(1), int64(1), object(4)\n",
      "memory usage: 23.1+ MB\n"
     ]
    }
   ],
   "source": [
    "ghg_df.info()"
   ]
  },
  {
   "cell_type": "markdown",
   "id": "43b46bc7-d985-44f9-bb61-0690666b2114",
   "metadata": {},
   "source": [
    "From above, all values in all columns have the proper variable type and are non-null values. The `Greenhouse Gases` dataset has been loaded properly into a pandas DataFrame with appropriate headers, and the data types are consistent with expectations for each variable. "
   ]
  },
  {
   "cell_type": "markdown",
   "id": "6b30f401-59a3-435f-bf2f-e74d00b1ff74",
   "metadata": {},
   "source": [
    "Next, ETL will be performed on the dataset of `Chronic Disease Indicators in the US`:"
   ]
  },
  {
   "cell_type": "code",
   "execution_count": null,
   "id": "62574995-41dd-4285-8629-ea44aa5df371",
   "metadata": {},
   "outputs": [],
   "source": [
    "current_directory = os.getcwd()\n",
    "cdi_filename = \"U.S._Chronic_Disease_Indicators_20250615.csv\" \n",
    "cdi_df = os.path.join"
   ]
  }
 ],
 "metadata": {
  "kernelspec": {
   "display_name": "Python 3 (ipykernel)",
   "language": "python",
   "name": "python3"
  },
  "language_info": {
   "codemirror_mode": {
    "name": "ipython",
    "version": 3
   },
   "file_extension": ".py",
   "mimetype": "text/x-python",
   "name": "python",
   "nbconvert_exporter": "python",
   "pygments_lexer": "ipython3",
   "version": "3.13.1"
  }
 },
 "nbformat": 4,
 "nbformat_minor": 5
}
